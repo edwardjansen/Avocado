{
 "cells": [
  {
   "cell_type": "code",
   "execution_count": 1,
   "metadata": {},
   "outputs": [],
   "source": [
    "# import display libs\n",
    "from IPython.display import Image\n",
    "%matplotlib inline\n",
    "from IPython.display import Latex"
   ]
  },
  {
   "cell_type": "code",
   "execution_count": 2,
   "metadata": {},
   "outputs": [
    {
     "name": "stderr",
     "output_type": "stream",
     "text": [
      "C:\\Users\\RJANSEN\\Anaconda3\\lib\\site-packages\\ipykernel_launcher.py:27: MatplotlibDeprecationWarning: \n",
      "The text.latex.unicode rcparam was deprecated in Matplotlib 3.0 and will be removed in 3.2.\n"
     ]
    },
    {
     "data": {
      "text/plain": [
       "'C:\\\\Users\\\\RJANSEN\\\\.matplotlib'"
      ]
     },
     "execution_count": 2,
     "metadata": {},
     "output_type": "execute_result"
    }
   ],
   "source": [
    "# import libs\n",
    "import numpy as np\n",
    "import pandas as pd\n",
    "import matplotlib\n",
    "import matplotlib.pyplot as plt\n",
    "\n",
    "\n",
    "# setup figure params\n",
    "figureparams = {'axes.labelsize': 24,\n",
    "           'axes.titlesize': 20,\n",
    "           'axes.linewidth': 1.3,\n",
    "           'font.size': 20,\n",
    "           'legend.fontsize': 18,\n",
    "           'figure.figsize': (10,7),\n",
    "           'font.family': 'serif',\n",
    "           'font.serif': 'Computer Modern Roman',\n",
    "           'xtick.labelsize': 18,\n",
    "           'xtick.major.size': 5.5,\n",
    "           'xtick.major.width': 1.3,\n",
    "           'ytick.labelsize': 18,\n",
    "           'ytick.major.size': 5.5,\n",
    "           'ytick.major.width': 1.3,\n",
    "           'text.usetex': True,\n",
    "           'figure.autolayout': True}\n",
    "plt.rcParams.update(figureparams)\n",
    "matplotlib.rcParams['text.usetex']=False\n",
    "matplotlib.rcParams['text.latex.unicode']=True\n",
    "matplotlib.get_configdir()"
   ]
  },
  {
   "cell_type": "markdown",
   "metadata": {},
   "source": [
    "# Binary Classification"
   ]
  },
  {
   "cell_type": "code",
   "execution_count": 3,
   "metadata": {},
   "outputs": [],
   "source": [
    "# Import additional libs\n",
    "#import warnings\n",
    "#import itertools\n",
    "#import statsmodels.api as sm"
   ]
  },
  {
   "cell_type": "markdown",
   "metadata": {},
   "source": [
    "### Load Data"
   ]
  },
  {
   "cell_type": "code",
   "execution_count": 4,
   "metadata": {},
   "outputs": [
    {
     "name": "stdout",
     "output_type": "stream",
     "text": [
      "Index(['Unnamed: 0', 'Date', 'AveragePrice', 'Total Volume', '4046', '4225',\n",
      "       '4770', 'Total Bags', 'Small Bags', 'Large Bags', 'XLarge Bags', 'type',\n",
      "       'year', 'region'],\n",
      "      dtype='object')\n"
     ]
    }
   ],
   "source": [
    "# Load the data\n",
    "df = pd.read_csv('avocado.csv')\n",
    "cols = df.columns\n",
    "print(cols)"
   ]
  },
  {
   "cell_type": "code",
   "execution_count": 5,
   "metadata": {},
   "outputs": [],
   "source": [
    "idx_nums = np.where(df.dtypes == 'float64')\n",
    "idx_cats = np.where(df.dtypes != 'float64')\n",
    "numvars = cols[idx_nums]\n",
    "cats = cols[idx_cats]"
   ]
  },
  {
   "cell_type": "markdown",
   "metadata": {},
   "source": [
    "### Variable selection"
   ]
  },
  {
   "cell_type": "code",
   "execution_count": 6,
   "metadata": {},
   "outputs": [],
   "source": [
    "keep_cols = ['Total Volume',\n",
    "             '4046',\n",
    "             '4225',\n",
    "             '4770',\n",
    "             'Total Bags',\n",
    "             'Small Bags',\n",
    "             'Large Bags',\n",
    "             'XLarge Bags',\n",
    "             'region',\n",
    "             'type' ]\n",
    "\n",
    "# convert target variable to 0,1\n",
    "df.loc[df.type == 'conventional', 'type'] = 0\n",
    "df.loc[df.type == 'organic', 'type'] = 1\n",
    "\n",
    "\n",
    "df = df[keep_cols]"
   ]
  },
  {
   "cell_type": "code",
   "execution_count": 7,
   "metadata": {},
   "outputs": [
    {
     "data": {
      "text/html": [
       "<div>\n",
       "<style scoped>\n",
       "    .dataframe tbody tr th:only-of-type {\n",
       "        vertical-align: middle;\n",
       "    }\n",
       "\n",
       "    .dataframe tbody tr th {\n",
       "        vertical-align: top;\n",
       "    }\n",
       "\n",
       "    .dataframe thead th {\n",
       "        text-align: right;\n",
       "    }\n",
       "</style>\n",
       "<table border=\"1\" class=\"dataframe\">\n",
       "  <thead>\n",
       "    <tr style=\"text-align: right;\">\n",
       "      <th></th>\n",
       "      <th>Total Volume</th>\n",
       "      <th>4046</th>\n",
       "      <th>4225</th>\n",
       "      <th>4770</th>\n",
       "      <th>Total Bags</th>\n",
       "      <th>Small Bags</th>\n",
       "      <th>Large Bags</th>\n",
       "      <th>XLarge Bags</th>\n",
       "      <th>region</th>\n",
       "      <th>type</th>\n",
       "    </tr>\n",
       "  </thead>\n",
       "  <tbody>\n",
       "    <tr>\n",
       "      <td>0</td>\n",
       "      <td>64236.62</td>\n",
       "      <td>1036.74</td>\n",
       "      <td>54454.85</td>\n",
       "      <td>48.16</td>\n",
       "      <td>8696.87</td>\n",
       "      <td>8603.62</td>\n",
       "      <td>93.25</td>\n",
       "      <td>0.0</td>\n",
       "      <td>Albany</td>\n",
       "      <td>0</td>\n",
       "    </tr>\n",
       "    <tr>\n",
       "      <td>1</td>\n",
       "      <td>54876.98</td>\n",
       "      <td>674.28</td>\n",
       "      <td>44638.81</td>\n",
       "      <td>58.33</td>\n",
       "      <td>9505.56</td>\n",
       "      <td>9408.07</td>\n",
       "      <td>97.49</td>\n",
       "      <td>0.0</td>\n",
       "      <td>Albany</td>\n",
       "      <td>0</td>\n",
       "    </tr>\n",
       "    <tr>\n",
       "      <td>2</td>\n",
       "      <td>118220.22</td>\n",
       "      <td>794.70</td>\n",
       "      <td>109149.67</td>\n",
       "      <td>130.50</td>\n",
       "      <td>8145.35</td>\n",
       "      <td>8042.21</td>\n",
       "      <td>103.14</td>\n",
       "      <td>0.0</td>\n",
       "      <td>Albany</td>\n",
       "      <td>0</td>\n",
       "    </tr>\n",
       "    <tr>\n",
       "      <td>3</td>\n",
       "      <td>78992.15</td>\n",
       "      <td>1132.00</td>\n",
       "      <td>71976.41</td>\n",
       "      <td>72.58</td>\n",
       "      <td>5811.16</td>\n",
       "      <td>5677.40</td>\n",
       "      <td>133.76</td>\n",
       "      <td>0.0</td>\n",
       "      <td>Albany</td>\n",
       "      <td>0</td>\n",
       "    </tr>\n",
       "    <tr>\n",
       "      <td>4</td>\n",
       "      <td>51039.60</td>\n",
       "      <td>941.48</td>\n",
       "      <td>43838.39</td>\n",
       "      <td>75.78</td>\n",
       "      <td>6183.95</td>\n",
       "      <td>5986.26</td>\n",
       "      <td>197.69</td>\n",
       "      <td>0.0</td>\n",
       "      <td>Albany</td>\n",
       "      <td>0</td>\n",
       "    </tr>\n",
       "    <tr>\n",
       "      <td>...</td>\n",
       "      <td>...</td>\n",
       "      <td>...</td>\n",
       "      <td>...</td>\n",
       "      <td>...</td>\n",
       "      <td>...</td>\n",
       "      <td>...</td>\n",
       "      <td>...</td>\n",
       "      <td>...</td>\n",
       "      <td>...</td>\n",
       "      <td>...</td>\n",
       "    </tr>\n",
       "    <tr>\n",
       "      <td>18244</td>\n",
       "      <td>17074.83</td>\n",
       "      <td>2046.96</td>\n",
       "      <td>1529.20</td>\n",
       "      <td>0.00</td>\n",
       "      <td>13498.67</td>\n",
       "      <td>13066.82</td>\n",
       "      <td>431.85</td>\n",
       "      <td>0.0</td>\n",
       "      <td>WestTexNewMexico</td>\n",
       "      <td>1</td>\n",
       "    </tr>\n",
       "    <tr>\n",
       "      <td>18245</td>\n",
       "      <td>13888.04</td>\n",
       "      <td>1191.70</td>\n",
       "      <td>3431.50</td>\n",
       "      <td>0.00</td>\n",
       "      <td>9264.84</td>\n",
       "      <td>8940.04</td>\n",
       "      <td>324.80</td>\n",
       "      <td>0.0</td>\n",
       "      <td>WestTexNewMexico</td>\n",
       "      <td>1</td>\n",
       "    </tr>\n",
       "    <tr>\n",
       "      <td>18246</td>\n",
       "      <td>13766.76</td>\n",
       "      <td>1191.92</td>\n",
       "      <td>2452.79</td>\n",
       "      <td>727.94</td>\n",
       "      <td>9394.11</td>\n",
       "      <td>9351.80</td>\n",
       "      <td>42.31</td>\n",
       "      <td>0.0</td>\n",
       "      <td>WestTexNewMexico</td>\n",
       "      <td>1</td>\n",
       "    </tr>\n",
       "    <tr>\n",
       "      <td>18247</td>\n",
       "      <td>16205.22</td>\n",
       "      <td>1527.63</td>\n",
       "      <td>2981.04</td>\n",
       "      <td>727.01</td>\n",
       "      <td>10969.54</td>\n",
       "      <td>10919.54</td>\n",
       "      <td>50.00</td>\n",
       "      <td>0.0</td>\n",
       "      <td>WestTexNewMexico</td>\n",
       "      <td>1</td>\n",
       "    </tr>\n",
       "    <tr>\n",
       "      <td>18248</td>\n",
       "      <td>17489.58</td>\n",
       "      <td>2894.77</td>\n",
       "      <td>2356.13</td>\n",
       "      <td>224.53</td>\n",
       "      <td>12014.15</td>\n",
       "      <td>11988.14</td>\n",
       "      <td>26.01</td>\n",
       "      <td>0.0</td>\n",
       "      <td>WestTexNewMexico</td>\n",
       "      <td>1</td>\n",
       "    </tr>\n",
       "  </tbody>\n",
       "</table>\n",
       "<p>18249 rows × 10 columns</p>\n",
       "</div>"
      ],
      "text/plain": [
       "       Total Volume     4046       4225    4770  Total Bags  Small Bags  \\\n",
       "0          64236.62  1036.74   54454.85   48.16     8696.87     8603.62   \n",
       "1          54876.98   674.28   44638.81   58.33     9505.56     9408.07   \n",
       "2         118220.22   794.70  109149.67  130.50     8145.35     8042.21   \n",
       "3          78992.15  1132.00   71976.41   72.58     5811.16     5677.40   \n",
       "4          51039.60   941.48   43838.39   75.78     6183.95     5986.26   \n",
       "...             ...      ...        ...     ...         ...         ...   \n",
       "18244      17074.83  2046.96    1529.20    0.00    13498.67    13066.82   \n",
       "18245      13888.04  1191.70    3431.50    0.00     9264.84     8940.04   \n",
       "18246      13766.76  1191.92    2452.79  727.94     9394.11     9351.80   \n",
       "18247      16205.22  1527.63    2981.04  727.01    10969.54    10919.54   \n",
       "18248      17489.58  2894.77    2356.13  224.53    12014.15    11988.14   \n",
       "\n",
       "       Large Bags  XLarge Bags            region  type  \n",
       "0           93.25          0.0            Albany     0  \n",
       "1           97.49          0.0            Albany     0  \n",
       "2          103.14          0.0            Albany     0  \n",
       "3          133.76          0.0            Albany     0  \n",
       "4          197.69          0.0            Albany     0  \n",
       "...           ...          ...               ...   ...  \n",
       "18244      431.85          0.0  WestTexNewMexico     1  \n",
       "18245      324.80          0.0  WestTexNewMexico     1  \n",
       "18246       42.31          0.0  WestTexNewMexico     1  \n",
       "18247       50.00          0.0  WestTexNewMexico     1  \n",
       "18248       26.01          0.0  WestTexNewMexico     1  \n",
       "\n",
       "[18249 rows x 10 columns]"
      ]
     },
     "execution_count": 7,
     "metadata": {},
     "output_type": "execute_result"
    }
   ],
   "source": [
    "df"
   ]
  },
  {
   "cell_type": "markdown",
   "metadata": {},
   "source": [
    "### Train test split"
   ]
  },
  {
   "cell_type": "code",
   "execution_count": 29,
   "metadata": {},
   "outputs": [],
   "source": [
    "def split(df, target, test_size = 0.25):\n",
    "    \"\"\"\n",
    "    Function that splits a dataset into train and test set.\n",
    "    ---------\n",
    "    Input:\n",
    "        df          dataframe; to be splitted data   \n",
    "        target:     string; name of dependent variable        \n",
    "    Returns:\n",
    "        X_train     dataframe; train data\n",
    "        X_test      dataframe; test data\n",
    "        y_train     array; train labels\n",
    "        y_test      array; test labels\n",
    "    \n",
    "    \"\"\"\n",
    "    from sklearn.model_selection import train_test_split\n",
    "    \n",
    "    # split in train and test\n",
    "    X_train, X_test, y_train, y_test = train_test_split(df.drop([target], axis=1), \n",
    "                                                        df[target],\n",
    "                                                        test_size = test_size,\n",
    "                                                        random_state=101)\n",
    "    \n",
    "    return X_train, X_test, y_train, y_test\n",
    "\n",
    "X_train, X_test, y_train, y_test = split(df, 'type')"
   ]
  },
  {
   "cell_type": "code",
   "execution_count": 30,
   "metadata": {},
   "outputs": [],
   "source": [
    "### label encode the categorical values and convert them to numbers \n",
    "from sklearn.preprocessing import LabelEncoder\n",
    "\n",
    "le = LabelEncoder()\n",
    "le.fit(X_train['region'].astype(str))\n",
    "X_train['region'] = le.transform(X_train['region'].astype(str))\n",
    "X_test['region'] = le.transform(X_test['region'].astype(str))\n"
   ]
  },
  {
   "cell_type": "code",
   "execution_count": 31,
   "metadata": {},
   "outputs": [
    {
     "data": {
      "text/html": [
       "<div>\n",
       "<style scoped>\n",
       "    .dataframe tbody tr th:only-of-type {\n",
       "        vertical-align: middle;\n",
       "    }\n",
       "\n",
       "    .dataframe tbody tr th {\n",
       "        vertical-align: top;\n",
       "    }\n",
       "\n",
       "    .dataframe thead th {\n",
       "        text-align: right;\n",
       "    }\n",
       "</style>\n",
       "<table border=\"1\" class=\"dataframe\">\n",
       "  <thead>\n",
       "    <tr style=\"text-align: right;\">\n",
       "      <th></th>\n",
       "      <th>Total Volume</th>\n",
       "      <th>4046</th>\n",
       "      <th>4225</th>\n",
       "      <th>4770</th>\n",
       "      <th>Total Bags</th>\n",
       "      <th>Small Bags</th>\n",
       "      <th>Large Bags</th>\n",
       "      <th>XLarge Bags</th>\n",
       "      <th>region</th>\n",
       "    </tr>\n",
       "  </thead>\n",
       "  <tbody>\n",
       "    <tr>\n",
       "      <td>9247</td>\n",
       "      <td>12626.20</td>\n",
       "      <td>2524.44</td>\n",
       "      <td>5164.04</td>\n",
       "      <td>715.02</td>\n",
       "      <td>4222.70</td>\n",
       "      <td>4219.94</td>\n",
       "      <td>2.76</td>\n",
       "      <td>0.00</td>\n",
       "      <td>2</td>\n",
       "    </tr>\n",
       "    <tr>\n",
       "      <td>378</td>\n",
       "      <td>161443.98</td>\n",
       "      <td>25922.66</td>\n",
       "      <td>46906.06</td>\n",
       "      <td>41261.83</td>\n",
       "      <td>47353.43</td>\n",
       "      <td>38940.45</td>\n",
       "      <td>8412.98</td>\n",
       "      <td>0.00</td>\n",
       "      <td>7</td>\n",
       "    </tr>\n",
       "    <tr>\n",
       "      <td>11872</td>\n",
       "      <td>330353.76</td>\n",
       "      <td>119664.32</td>\n",
       "      <td>178258.33</td>\n",
       "      <td>176.53</td>\n",
       "      <td>32254.58</td>\n",
       "      <td>14940.27</td>\n",
       "      <td>17314.31</td>\n",
       "      <td>0.00</td>\n",
       "      <td>52</td>\n",
       "    </tr>\n",
       "    <tr>\n",
       "      <td>16335</td>\n",
       "      <td>18891.80</td>\n",
       "      <td>0.00</td>\n",
       "      <td>390.00</td>\n",
       "      <td>0.00</td>\n",
       "      <td>18501.80</td>\n",
       "      <td>18273.13</td>\n",
       "      <td>228.67</td>\n",
       "      <td>0.00</td>\n",
       "      <td>30</td>\n",
       "    </tr>\n",
       "    <tr>\n",
       "      <td>5718</td>\n",
       "      <td>755472.09</td>\n",
       "      <td>320378.00</td>\n",
       "      <td>135920.57</td>\n",
       "      <td>179.13</td>\n",
       "      <td>298994.39</td>\n",
       "      <td>177899.15</td>\n",
       "      <td>121095.24</td>\n",
       "      <td>0.00</td>\n",
       "      <td>1</td>\n",
       "    </tr>\n",
       "    <tr>\n",
       "      <td>...</td>\n",
       "      <td>...</td>\n",
       "      <td>...</td>\n",
       "      <td>...</td>\n",
       "      <td>...</td>\n",
       "      <td>...</td>\n",
       "      <td>...</td>\n",
       "      <td>...</td>\n",
       "      <td>...</td>\n",
       "      <td>...</td>\n",
       "    </tr>\n",
       "    <tr>\n",
       "      <td>5695</td>\n",
       "      <td>528297.88</td>\n",
       "      <td>248095.78</td>\n",
       "      <td>56275.22</td>\n",
       "      <td>109.99</td>\n",
       "      <td>223816.89</td>\n",
       "      <td>136027.87</td>\n",
       "      <td>77103.34</td>\n",
       "      <td>10685.68</td>\n",
       "      <td>1</td>\n",
       "    </tr>\n",
       "    <tr>\n",
       "      <td>8006</td>\n",
       "      <td>4362824.00</td>\n",
       "      <td>2377638.00</td>\n",
       "      <td>713646.00</td>\n",
       "      <td>14770.00</td>\n",
       "      <td>1256771.00</td>\n",
       "      <td>870931.00</td>\n",
       "      <td>385677.00</td>\n",
       "      <td>162.00</td>\n",
       "      <td>45</td>\n",
       "    </tr>\n",
       "    <tr>\n",
       "      <td>17745</td>\n",
       "      <td>24825.50</td>\n",
       "      <td>6516.40</td>\n",
       "      <td>685.92</td>\n",
       "      <td>44.09</td>\n",
       "      <td>17579.09</td>\n",
       "      <td>16514.58</td>\n",
       "      <td>1064.51</td>\n",
       "      <td>0.00</td>\n",
       "      <td>12</td>\n",
       "    </tr>\n",
       "    <tr>\n",
       "      <td>17931</td>\n",
       "      <td>7801.52</td>\n",
       "      <td>183.18</td>\n",
       "      <td>130.50</td>\n",
       "      <td>0.00</td>\n",
       "      <td>7487.84</td>\n",
       "      <td>7163.33</td>\n",
       "      <td>324.51</td>\n",
       "      <td>0.00</td>\n",
       "      <td>27</td>\n",
       "    </tr>\n",
       "    <tr>\n",
       "      <td>13151</td>\n",
       "      <td>2109.90</td>\n",
       "      <td>2.68</td>\n",
       "      <td>1508.95</td>\n",
       "      <td>0.00</td>\n",
       "      <td>598.27</td>\n",
       "      <td>336.67</td>\n",
       "      <td>261.60</td>\n",
       "      <td>0.00</td>\n",
       "      <td>23</td>\n",
       "    </tr>\n",
       "  </tbody>\n",
       "</table>\n",
       "<p>13686 rows × 9 columns</p>\n",
       "</div>"
      ],
      "text/plain": [
       "       Total Volume        4046       4225      4770  Total Bags  Small Bags  \\\n",
       "9247       12626.20     2524.44    5164.04    715.02     4222.70     4219.94   \n",
       "378       161443.98    25922.66   46906.06  41261.83    47353.43    38940.45   \n",
       "11872     330353.76   119664.32  178258.33    176.53    32254.58    14940.27   \n",
       "16335      18891.80        0.00     390.00      0.00    18501.80    18273.13   \n",
       "5718      755472.09   320378.00  135920.57    179.13   298994.39   177899.15   \n",
       "...             ...         ...        ...       ...         ...         ...   \n",
       "5695      528297.88   248095.78   56275.22    109.99   223816.89   136027.87   \n",
       "8006     4362824.00  2377638.00  713646.00  14770.00  1256771.00   870931.00   \n",
       "17745      24825.50     6516.40     685.92     44.09    17579.09    16514.58   \n",
       "17931       7801.52      183.18     130.50      0.00     7487.84     7163.33   \n",
       "13151       2109.90        2.68    1508.95      0.00      598.27      336.67   \n",
       "\n",
       "       Large Bags  XLarge Bags  region  \n",
       "9247         2.76         0.00       2  \n",
       "378       8412.98         0.00       7  \n",
       "11872    17314.31         0.00      52  \n",
       "16335      228.67         0.00      30  \n",
       "5718    121095.24         0.00       1  \n",
       "...           ...          ...     ...  \n",
       "5695     77103.34     10685.68       1  \n",
       "8006    385677.00       162.00      45  \n",
       "17745     1064.51         0.00      12  \n",
       "17931      324.51         0.00      27  \n",
       "13151      261.60         0.00      23  \n",
       "\n",
       "[13686 rows x 9 columns]"
      ]
     },
     "execution_count": 31,
     "metadata": {},
     "output_type": "execute_result"
    }
   ],
   "source": [
    "X_train"
   ]
  },
  {
   "cell_type": "code",
   "execution_count": 32,
   "metadata": {},
   "outputs": [],
   "source": [
    "X_train = pd.concat([X_train, pd.get_dummies(X_train['region'])], axis=1)\n",
    "X_train = X_train.drop(['region'], axis=1)"
   ]
  },
  {
   "cell_type": "code",
   "execution_count": 33,
   "metadata": {},
   "outputs": [],
   "source": [
    "X_test = pd.concat([X_test, pd.get_dummies(X_test['region'])], axis=1)\n",
    "X_test = X_test.drop(['region'], axis=1)"
   ]
  },
  {
   "cell_type": "markdown",
   "metadata": {},
   "source": [
    "### Variable preparation"
   ]
  },
  {
   "cell_type": "code",
   "execution_count": 34,
   "metadata": {},
   "outputs": [],
   "source": [
    "from sklearn.preprocessing import StandardScaler\n",
    "\n",
    "scaler = StandardScaler()\n",
    "X_train_s = scaler.fit_transform(X_train)\n",
    "X_test_s = scaler.transform(X_test)"
   ]
  },
  {
   "cell_type": "code",
   "execution_count": null,
   "metadata": {},
   "outputs": [],
   "source": []
  },
  {
   "cell_type": "markdown",
   "metadata": {},
   "source": [
    "### Model: Logistic Regression"
   ]
  },
  {
   "cell_type": "code",
   "execution_count": 35,
   "metadata": {},
   "outputs": [
    {
     "name": "stdout",
     "output_type": "stream",
     "text": [
      "Fitting 2 folds for each of 58 candidates, totalling 116 fits\n"
     ]
    },
    {
     "name": "stderr",
     "output_type": "stream",
     "text": [
      "[Parallel(n_jobs=-1)]: Using backend LokyBackend with 4 concurrent workers.\n",
      "[Parallel(n_jobs=-1)]: Done  42 tasks      | elapsed:   12.4s\n",
      "[Parallel(n_jobs=-1)]: Done 116 out of 116 | elapsed:   18.6s finished\n"
     ]
    }
   ],
   "source": [
    "def GS_clf(penalty = ['l1'], C = np.logspace(-7, 7, 29), cv=5):\n",
    "    \"\"\"\n",
    "    Function that sets up the GridSearch model with crossvalidation.\n",
    "    ---------\n",
    "    Input:\n",
    "\n",
    "    Returns:\n",
    "        clf         object; to be fitted classifier\n",
    "    \n",
    "    \"\"\"\n",
    "    from sklearn.model_selection import GridSearchCV\n",
    "    from sklearn.linear_model import LogisticRegression\n",
    "    \n",
    "    # set up logistic regression\n",
    "    lr = LogisticRegression(C=1)\n",
    "    \n",
    "    # define grid of hyper parameters\n",
    "    param_grid = [\n",
    "            {'penalty' : ['l1', 'l2'],\n",
    "            'C' : np.logspace(-7, 7, 29),\n",
    "            'solver' : ['liblinear']},\n",
    "        ]    \n",
    "    \n",
    "    # initialize classifier\n",
    "    clf = GridSearchCV(lr, param_grid, scoring = 'roc_auc', n_jobs=-1, iid =True, refit = True, \n",
    "                           cv=cv, verbose=True, error_score='raise')\n",
    "    \n",
    "    return clf\n",
    "\n",
    "clf = GS_clf(cv=2)  # this shld be higher when fitting for real\n",
    "clf.fit(X_train, y_train)\n",
    "pred_proba = clf.predict_proba(X_test)[:, 1]\n",
    "\n",
    "# extract coefficients\n",
    "coef = clf.best_estimator_.coef_[0]\n",
    "intercept = clf.best_estimator_.intercept_[0]"
   ]
  },
  {
   "cell_type": "markdown",
   "metadata": {},
   "source": [
    "### Scoring"
   ]
  },
  {
   "cell_type": "code",
   "execution_count": 36,
   "metadata": {},
   "outputs": [
    {
     "name": "stdout",
     "output_type": "stream",
     "text": [
      "Our Gini is: 0.9993971427100374\n",
      "\n",
      "\n",
      "The confusion matrix is: \n"
     ]
    },
    {
     "data": {
      "text/plain": [
       "array([[2276,    0],\n",
       "       [   2, 2285]], dtype=int64)"
      ]
     },
     "execution_count": 36,
     "metadata": {},
     "output_type": "execute_result"
    }
   ],
   "source": [
    "from sklearn.metrics import roc_auc_score\n",
    "from sklearn.metrics import confusion_matrix\n",
    "\n",
    "print(\"Our Gini is: \" + str(2*roc_auc_score(y_test, pred_proba)-1))\n",
    "print(\"\\n\")\n",
    "print(\"The confusion matrix is: \")\n",
    "confusion_matrix(y_test, np.round(pred_proba))"
   ]
  },
  {
   "cell_type": "markdown",
   "metadata": {},
   "source": [
    "### Model interpretation"
   ]
  },
  {
   "cell_type": "code",
   "execution_count": 16,
   "metadata": {},
   "outputs": [
    {
     "ename": "AttributeError",
     "evalue": "'GridSearchCV' object has no attribute 'best_estimate_'",
     "output_type": "error",
     "traceback": [
      "\u001b[1;31m---------------------------------------------------------------------------\u001b[0m",
      "\u001b[1;31mAttributeError\u001b[0m                            Traceback (most recent call last)",
      "\u001b[1;32m<ipython-input-16-a0321da823f3>\u001b[0m in \u001b[0;36m<module>\u001b[1;34m\u001b[0m\n\u001b[1;32m----> 1\u001b[1;33m \u001b[0mclf\u001b[0m\u001b[1;33m.\u001b[0m\u001b[0mbest_estimate_\u001b[0m \u001b[1;31m###?\u001b[0m\u001b[1;33m\u001b[0m\u001b[1;33m\u001b[0m\u001b[0m\n\u001b[0m",
      "\u001b[1;31mAttributeError\u001b[0m: 'GridSearchCV' object has no attribute 'best_estimate_'"
     ]
    }
   ],
   "source": [
    "clf.best_estimate_ ###?"
   ]
  },
  {
   "cell_type": "markdown",
   "metadata": {},
   "source": [
    "look at the first coefficient!"
   ]
  },
  {
   "cell_type": "code",
   "execution_count": 37,
   "metadata": {},
   "outputs": [
    {
     "data": {
      "text/plain": [
       "array([-2.73683286e-05, -1.09651605e-04, -1.41465046e-04, -2.43365958e-03,\n",
       "       -1.37796163e-05, -2.13367134e-05, -3.69459973e-05, -2.17386099e-02,\n",
       "        6.11410301e-01,  1.03204283e+01,  1.75603633e+01,  1.50619288e+00,\n",
       "        1.08860234e+01,  2.18747649e+00,  4.60969821e+01,  1.61652443e+01,\n",
       "        1.64744495e+01,  9.03592954e+00,  5.35123488e+00,  1.63657529e+01,\n",
       "        2.66940912e+01,  1.09079825e+01,  7.38592232e+00,  3.71581643e+01,\n",
       "        8.24032574e+00,  1.03471230e+01,  1.46240586e+01,  5.79144994e+00,\n",
       "        3.96886054e+00,  9.23320198e+00,  2.07080014e+01,  1.05885251e+00,\n",
       "        9.96729155e+00,  6.72981651e+01,  6.42775656e+00,  9.31487499e+00,\n",
       "        7.77200144e+01,  4.87388204e+01,  1.01676530e+01,  8.31127288e+00,\n",
       "        1.41977056e+01,  1.37896952e+01,  2.66379189e+00,  3.36039298e+01,\n",
       "        1.64142636e+01,  1.17116930e+01,  9.14740888e+00,  3.18532314e+00,\n",
       "        1.10506301e+01,  1.21361733e+01,  1.42624922e+01,  2.45655653e+01,\n",
       "        1.05899335e+01,  3.58401892e+01,  2.32062415e+01,  1.11645642e+00,\n",
       "        3.70067311e+00, -5.15404994e-01,  8.35523201e+00,  2.09075711e+02,\n",
       "        9.59312404e+01,  6.25029802e+01])"
      ]
     },
     "execution_count": 37,
     "metadata": {},
     "output_type": "execute_result"
    }
   ],
   "source": [
    "coef"
   ]
  },
  {
   "cell_type": "code",
   "execution_count": null,
   "metadata": {},
   "outputs": [],
   "source": []
  },
  {
   "cell_type": "code",
   "execution_count": null,
   "metadata": {},
   "outputs": [],
   "source": []
  }
 ],
 "metadata": {
  "kernelspec": {
   "display_name": "Python 3",
   "language": "python",
   "name": "python3"
  },
  "language_info": {
   "codemirror_mode": {
    "name": "ipython",
    "version": 3
   },
   "file_extension": ".py",
   "mimetype": "text/x-python",
   "name": "python",
   "nbconvert_exporter": "python",
   "pygments_lexer": "ipython3",
   "version": "3.7.4"
  }
 },
 "nbformat": 4,
 "nbformat_minor": 2
}
