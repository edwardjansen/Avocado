{
 "cells": [
  {
   "cell_type": "code",
   "execution_count": 2,
   "metadata": {},
   "outputs": [],
   "source": [
    "# import display libs\n",
    "from IPython.display import Image\n",
    "%matplotlib inline\n",
    "from IPython.display import Latex"
   ]
  },
  {
   "cell_type": "code",
   "execution_count": null,
   "metadata": {},
   "outputs": [],
   "source": [
    "# import libs\n",
    "import numpy as np\n",
    "import pandas as pd\n",
    "import matplotlib\n",
    "import matplotlib.pyplot as plt\n",
    "import torch\n",
    "\n",
    "# setup figure params\n",
    "figureparams = {'axes.labelsize': 24,\n",
    "           'axes.titlesize': 20,\n",
    "           'axes.linewidth': 1.3,\n",
    "           'font.size': 20,\n",
    "           'legend.fontsize': 18,\n",
    "           'figure.figsize': (10,7),\n",
    "           'font.family': 'serif',\n",
    "           'font.serif': 'Computer Modern Roman',\n",
    "           'xtick.labelsize': 18,\n",
    "           'xtick.major.size': 5.5,\n",
    "           'xtick.major.width': 1.3,\n",
    "           'ytick.labelsize': 18,\n",
    "           'ytick.major.size': 5.5,\n",
    "           'ytick.major.width': 1.3,\n",
    "           'text.usetex': True,\n",
    "           'figure.autolayout': True}\n",
    "plt.rcParams.update(figureparams)\n",
    "matplotlib.rcParams['text.usetex']=False\n",
    "matplotlib.rcParams['text.latex.unicode']=True\n",
    "matplotlib.get_configdir()"
   ]
  },
  {
   "cell_type": "code",
   "execution_count": 6,
   "metadata": {},
   "outputs": [
    {
     "name": "stdout",
     "output_type": "stream",
     "text": [
      "python version==3.7.4\n",
      "pandas==0.25.1\n",
      "numpy==1.16.5\n",
      "sklearn==0.21.3\n",
      "torch==1.3.1\n",
      "matplotlib==3.1.1\n"
     ]
    }
   ],
   "source": [
    "from platform import python_version\n",
    "import sklearn\n",
    "print(\"python version==%s\" % python_version())\n",
    "print(\"pandas==%s\" % pd.__version__)\n",
    "print(\"numpy==%s\" % np.__version__)\n",
    "print(\"sklearn==%s\" % sklearn.__version__)\n",
    "print(\"torch==%s\" % torch.__version__)\n",
    "print(\"matplotlib==%s\" % matplotlib.__version__)"
   ]
  },
  {
   "cell_type": "markdown",
   "metadata": {},
   "source": [
    "# Long Short-Term Memory"
   ]
  },
  {
   "cell_type": "code",
   "execution_count": 8,
   "metadata": {},
   "outputs": [],
   "source": [
    "# Import additional libs\n",
    "import warnings\n",
    "import itertools\n",
    "import statsmodels.api as sm"
   ]
  },
  {
   "cell_type": "markdown",
   "metadata": {},
   "source": [
    "### Load Data"
   ]
  },
  {
   "cell_type": "code",
   "execution_count": 9,
   "metadata": {},
   "outputs": [],
   "source": [
    "# Load the data\n",
    "df = pd.read_csv('avocado.csv')\n",
    "cols = df.columns"
   ]
  },
  {
   "cell_type": "markdown",
   "metadata": {},
   "source": [
    "#### Select Timeseries"
   ]
  },
  {
   "cell_type": "code",
   "execution_count": 10,
   "metadata": {},
   "outputs": [],
   "source": [
    "region = 'Albany'\n",
    "Type = 'conventional'"
   ]
  },
  {
   "cell_type": "code",
   "execution_count": 15,
   "metadata": {},
   "outputs": [],
   "source": [
    "df_sub = df.loc[ (df.region == region) & (df.type == Type)]\n",
    "\n",
    "# keep only price and dates\n",
    "keepcols = ['Date', 'AveragePrice', 'Volume']\n",
    "ts = df_sub[keepcols]"
   ]
  },
  {
   "cell_type": "code",
   "execution_count": 16,
   "metadata": {},
   "outputs": [
    {
     "data": {
      "text/html": [
       "<div>\n",
       "<style scoped>\n",
       "    .dataframe tbody tr th:only-of-type {\n",
       "        vertical-align: middle;\n",
       "    }\n",
       "\n",
       "    .dataframe tbody tr th {\n",
       "        vertical-align: top;\n",
       "    }\n",
       "\n",
       "    .dataframe thead th {\n",
       "        text-align: right;\n",
       "    }\n",
       "</style>\n",
       "<table border=\"1\" class=\"dataframe\">\n",
       "  <thead>\n",
       "    <tr style=\"text-align: right;\">\n",
       "      <th></th>\n",
       "      <th>Date</th>\n",
       "      <th>AveragePrice</th>\n",
       "    </tr>\n",
       "  </thead>\n",
       "  <tbody>\n",
       "    <tr>\n",
       "      <td>51</td>\n",
       "      <td>2015-01-04</td>\n",
       "      <td>1.22</td>\n",
       "    </tr>\n",
       "    <tr>\n",
       "      <td>50</td>\n",
       "      <td>2015-01-11</td>\n",
       "      <td>1.24</td>\n",
       "    </tr>\n",
       "    <tr>\n",
       "      <td>49</td>\n",
       "      <td>2015-01-18</td>\n",
       "      <td>1.17</td>\n",
       "    </tr>\n",
       "    <tr>\n",
       "      <td>48</td>\n",
       "      <td>2015-01-25</td>\n",
       "      <td>1.06</td>\n",
       "    </tr>\n",
       "    <tr>\n",
       "      <td>47</td>\n",
       "      <td>2015-02-01</td>\n",
       "      <td>0.99</td>\n",
       "    </tr>\n",
       "    <tr>\n",
       "      <td>...</td>\n",
       "      <td>...</td>\n",
       "      <td>...</td>\n",
       "    </tr>\n",
       "    <tr>\n",
       "      <td>8482</td>\n",
       "      <td>2018-02-25</td>\n",
       "      <td>1.28</td>\n",
       "    </tr>\n",
       "    <tr>\n",
       "      <td>8481</td>\n",
       "      <td>2018-03-04</td>\n",
       "      <td>1.08</td>\n",
       "    </tr>\n",
       "    <tr>\n",
       "      <td>8480</td>\n",
       "      <td>2018-03-11</td>\n",
       "      <td>1.12</td>\n",
       "    </tr>\n",
       "    <tr>\n",
       "      <td>8479</td>\n",
       "      <td>2018-03-18</td>\n",
       "      <td>1.35</td>\n",
       "    </tr>\n",
       "    <tr>\n",
       "      <td>8478</td>\n",
       "      <td>2018-03-25</td>\n",
       "      <td>1.57</td>\n",
       "    </tr>\n",
       "  </tbody>\n",
       "</table>\n",
       "<p>169 rows × 2 columns</p>\n",
       "</div>"
      ],
      "text/plain": [
       "            Date  AveragePrice\n",
       "51    2015-01-04          1.22\n",
       "50    2015-01-11          1.24\n",
       "49    2015-01-18          1.17\n",
       "48    2015-01-25          1.06\n",
       "47    2015-02-01          0.99\n",
       "...          ...           ...\n",
       "8482  2018-02-25          1.28\n",
       "8481  2018-03-04          1.08\n",
       "8480  2018-03-11          1.12\n",
       "8479  2018-03-18          1.35\n",
       "8478  2018-03-25          1.57\n",
       "\n",
       "[169 rows x 2 columns]"
      ]
     },
     "execution_count": 16,
     "metadata": {},
     "output_type": "execute_result"
    }
   ],
   "source": [
    "ts = ts.sort_values('Date')\n",
    "ts"
   ]
  },
  {
   "cell_type": "code",
   "execution_count": 17,
   "metadata": {},
   "outputs": [
    {
     "data": {
      "text/html": [
       "<div>\n",
       "<style scoped>\n",
       "    .dataframe tbody tr th:only-of-type {\n",
       "        vertical-align: middle;\n",
       "    }\n",
       "\n",
       "    .dataframe tbody tr th {\n",
       "        vertical-align: top;\n",
       "    }\n",
       "\n",
       "    .dataframe thead th {\n",
       "        text-align: right;\n",
       "    }\n",
       "</style>\n",
       "<table border=\"1\" class=\"dataframe\">\n",
       "  <thead>\n",
       "    <tr style=\"text-align: right;\">\n",
       "      <th></th>\n",
       "      <th>AveragePrice</th>\n",
       "    </tr>\n",
       "    <tr>\n",
       "      <th>Date</th>\n",
       "      <th></th>\n",
       "    </tr>\n",
       "  </thead>\n",
       "  <tbody>\n",
       "    <tr>\n",
       "      <td>2015-01-04</td>\n",
       "      <td>1.22</td>\n",
       "    </tr>\n",
       "    <tr>\n",
       "      <td>2015-01-11</td>\n",
       "      <td>1.24</td>\n",
       "    </tr>\n",
       "    <tr>\n",
       "      <td>2015-01-18</td>\n",
       "      <td>1.17</td>\n",
       "    </tr>\n",
       "    <tr>\n",
       "      <td>2015-01-25</td>\n",
       "      <td>1.06</td>\n",
       "    </tr>\n",
       "    <tr>\n",
       "      <td>2015-02-01</td>\n",
       "      <td>0.99</td>\n",
       "    </tr>\n",
       "    <tr>\n",
       "      <td>...</td>\n",
       "      <td>...</td>\n",
       "    </tr>\n",
       "    <tr>\n",
       "      <td>2018-02-25</td>\n",
       "      <td>1.28</td>\n",
       "    </tr>\n",
       "    <tr>\n",
       "      <td>2018-03-04</td>\n",
       "      <td>1.08</td>\n",
       "    </tr>\n",
       "    <tr>\n",
       "      <td>2018-03-11</td>\n",
       "      <td>1.12</td>\n",
       "    </tr>\n",
       "    <tr>\n",
       "      <td>2018-03-18</td>\n",
       "      <td>1.35</td>\n",
       "    </tr>\n",
       "    <tr>\n",
       "      <td>2018-03-25</td>\n",
       "      <td>1.57</td>\n",
       "    </tr>\n",
       "  </tbody>\n",
       "</table>\n",
       "<p>169 rows × 1 columns</p>\n",
       "</div>"
      ],
      "text/plain": [
       "            AveragePrice\n",
       "Date                    \n",
       "2015-01-04          1.22\n",
       "2015-01-11          1.24\n",
       "2015-01-18          1.17\n",
       "2015-01-25          1.06\n",
       "2015-02-01          0.99\n",
       "...                  ...\n",
       "2018-02-25          1.28\n",
       "2018-03-04          1.08\n",
       "2018-03-11          1.12\n",
       "2018-03-18          1.35\n",
       "2018-03-25          1.57\n",
       "\n",
       "[169 rows x 1 columns]"
      ]
     },
     "execution_count": 17,
     "metadata": {},
     "output_type": "execute_result"
    }
   ],
   "source": [
    "ts.index = ts.Date\n",
    "ts = ts.drop(['Date'], axis=1)\n",
    "ts"
   ]
  },
  {
   "cell_type": "code",
   "execution_count": 18,
   "metadata": {},
   "outputs": [
    {
     "data": {
      "text/plain": [
       "<matplotlib.axes._subplots.AxesSubplot at 0x289844313c8>"
      ]
     },
     "execution_count": 18,
     "metadata": {},
     "output_type": "execute_result"
    },
    {
     "name": "stderr",
     "output_type": "stream",
     "text": [
      "findfont: Font family ['serif'] not found. Falling back to DejaVu Sans.\n",
      "findfont: Font family ['serif'] not found. Falling back to DejaVu Sans.\n"
     ]
    },
    {
     "data": {
      "image/png": "[encoded data removed]",
      "text/plain": [
       "<Figure size 720x504 with 1 Axes>"
      ]
     },
     "metadata": {
      "needs_background": "light"
     },
     "output_type": "display_data"
    }
   ],
   "source": [
    "ts.plot()"
   ]
  },
  {
   "cell_type": "markdown",
   "metadata": {},
   "source": [
    "### Train test split"
   ]
  },
  {
   "cell_type": "code",
   "execution_count": 20,
   "metadata": {},
   "outputs": [],
   "source": [
    "test_data_size = 13\n",
    "\n",
    "train_data = ts[:-test_data_size]\n",
    "test_data = ts[-test_data_size:]"
   ]
  },
  {
   "cell_type": "markdown",
   "metadata": {},
   "source": [
    "### Scale data"
   ]
  },
  {
   "cell_type": "code",
   "execution_count": 24,
   "metadata": {},
   "outputs": [],
   "source": [
    "from sklearn.preprocessing import MinMaxScaler\n",
    "\n",
    "scaler = MinMaxScaler(feature_range=(-1, 1))\n",
    "train_data_normalized = scaler.fit_transform(train_data)"
   ]
  },
  {
   "cell_type": "markdown",
   "metadata": {},
   "source": [
    "### Create sequences"
   ]
  },
  {
   "cell_type": "code",
   "execution_count": 25,
   "metadata": {},
   "outputs": [],
   "source": [
    "train_data_normalized = torch.FloatTensor(train_data_normalized).view(-1)"
   ]
  },
  {
   "cell_type": "code",
   "execution_count": 26,
   "metadata": {},
   "outputs": [],
   "source": [
    "train_window = 12"
   ]
  },
  {
   "cell_type": "code",
   "execution_count": 27,
   "metadata": {},
   "outputs": [],
   "source": [
    "def create_inout_sequences(input_data, tw):\n",
    "    inout_seq = []\n",
    "    L = len(input_data)\n",
    "    for i in range(L-tw):\n",
    "        train_seq = input_data[i:i+tw]\n",
    "        train_label = input_data[i+tw:i+tw+1]\n",
    "        inout_seq.append((train_seq ,train_label))\n",
    "    return inout_seq"
   ]
  },
  {
   "cell_type": "code",
   "execution_count": 28,
   "metadata": {},
   "outputs": [],
   "source": [
    "train_inout_seq = create_inout_sequences(train_data_normalized, train_window)"
   ]
  },
  {
   "cell_type": "code",
   "execution_count": 29,
   "metadata": {},
   "outputs": [
    {
     "data": {
      "text/plain": [
       "[(tensor([-0.2211, -0.1789, -0.3263, -0.5579, -0.7053, -0.7053, -0.5579, -0.5368,\n",
       "          -0.7053, -0.5368, -0.4526, -0.4316]), tensor([-0.6421])),\n",
       " (tensor([-0.1789, -0.3263, -0.5579, -0.7053, -0.7053, -0.5579, -0.5368, -0.7053,\n",
       "          -0.5368, -0.4526, -0.4316, -0.6421]),\n",
       "  tensor([-0.3474])),\n",
       " (tensor([-0.3263, -0.5579, -0.7053, -0.7053, -0.5579, -0.5368, -0.7053, -0.5368,\n",
       "          -0.4526, -0.4316, -0.6421, -0.3474]), tensor([-0.4105])),\n",
       " (tensor([-0.5579, -0.7053, -0.7053, -0.5579, -0.5368, -0.7053, -0.5368, -0.4526,\n",
       "          -0.4316, -0.6421, -0.3474, -0.4105]), tensor([-0.2842])),\n",
       " (tensor([-0.7053, -0.7053, -0.5579, -0.5368, -0.7053, -0.5368, -0.4526, -0.4316,\n",
       "          -0.6421, -0.3474, -0.4105, -0.2842]), tensor([-0.2211])),\n",
       " (tensor([-0.7053, -0.5579, -0.5368, -0.7053, -0.5368, -0.4526, -0.4316, -0.6421,\n",
       "          -0.3474, -0.4105, -0.2842, -0.2211]), tensor([-0.2632])),\n",
       " (tensor([-0.5579, -0.5368, -0.7053, -0.5368, -0.4526, -0.4316, -0.6421, -0.3474,\n",
       "          -0.4105, -0.2842, -0.2211, -0.2632]), tensor([-0.1368])),\n",
       " (tensor([-0.5368, -0.7053, -0.5368, -0.4526, -0.4316, -0.6421, -0.3474, -0.4105,\n",
       "          -0.2842, -0.2211, -0.2632, -0.1368]), tensor([0.2211])),\n",
       " (tensor([-0.7053, -0.5368, -0.4526, -0.4316, -0.6421, -0.3474, -0.4105, -0.2842,\n",
       "          -0.2211, -0.2632, -0.1368,  0.2211]), tensor([-0.2842])),\n",
       " (tensor([-0.5368, -0.4526, -0.4316, -0.6421, -0.3474, -0.4105, -0.2842, -0.2211,\n",
       "          -0.2632, -0.1368,  0.2211, -0.2842]), tensor([-0.2000])),\n",
       " (tensor([-0.4526, -0.4316, -0.6421, -0.3474, -0.4105, -0.2842, -0.2211, -0.2632,\n",
       "          -0.1368,  0.2211, -0.2842, -0.2000]), tensor([-0.5368])),\n",
       " (tensor([-0.4316, -0.6421, -0.3474, -0.4105, -0.2842, -0.2211, -0.2632, -0.1368,\n",
       "           0.2211, -0.2842, -0.2000, -0.5368]), tensor([-0.0105])),\n",
       " (tensor([-0.6421, -0.3474, -0.4105, -0.2842, -0.2211, -0.2632, -0.1368,  0.2211,\n",
       "          -0.2842, -0.2000, -0.5368, -0.0105]), tensor([-0.1158])),\n",
       " (tensor([-0.3474, -0.4105, -0.2842, -0.2211, -0.2632, -0.1368,  0.2211, -0.2842,\n",
       "          -0.2000, -0.5368, -0.0105, -0.1158]), tensor([0.0947])),\n",
       " (tensor([-0.4105, -0.2842, -0.2211, -0.2632, -0.1368,  0.2211, -0.2842, -0.2000,\n",
       "          -0.5368, -0.0105, -0.1158,  0.0947]), tensor([0.0526])),\n",
       " (tensor([-0.2842, -0.2211, -0.2632, -0.1368,  0.2211, -0.2842, -0.2000, -0.5368,\n",
       "          -0.0105, -0.1158,  0.0947,  0.0526]), tensor([-0.5789])),\n",
       " (tensor([-0.2211, -0.2632, -0.1368,  0.2211, -0.2842, -0.2000, -0.5368, -0.0105,\n",
       "          -0.1158,  0.0947,  0.0526, -0.5789]), tensor([-0.1368])),\n",
       " (tensor([-0.2632, -0.1368,  0.2211, -0.2842, -0.2000, -0.5368, -0.0105, -0.1158,\n",
       "           0.0947,  0.0526, -0.5789, -0.1368]), tensor([-0.4526])),\n",
       " (tensor([-0.1368,  0.2211, -0.2842, -0.2000, -0.5368, -0.0105, -0.1158,  0.0947,\n",
       "           0.0526, -0.5789, -0.1368, -0.4526]), tensor([0.2632])),\n",
       " (tensor([ 0.2211, -0.2842, -0.2000, -0.5368, -0.0105, -0.1158,  0.0947,  0.0526,\n",
       "          -0.5789, -0.1368, -0.4526,  0.2632]), tensor([-0.4316])),\n",
       " (tensor([-0.2842, -0.2000, -0.5368, -0.0105, -0.1158,  0.0947,  0.0526, -0.5789,\n",
       "          -0.1368, -0.4526,  0.2632, -0.4316]), tensor([0.0105])),\n",
       " (tensor([-0.2000, -0.5368, -0.0105, -0.1158,  0.0947,  0.0526, -0.5789, -0.1368,\n",
       "          -0.4526,  0.2632, -0.4316,  0.0105]), tensor([0.0316])),\n",
       " (tensor([-0.5368, -0.0105, -0.1158,  0.0947,  0.0526, -0.5789, -0.1368, -0.4526,\n",
       "           0.2632, -0.4316,  0.0105,  0.0316]), tensor([-0.5368])),\n",
       " (tensor([-0.0105, -0.1158,  0.0947,  0.0526, -0.5789, -0.1368, -0.4526,  0.2632,\n",
       "          -0.4316,  0.0105,  0.0316, -0.5368]), tensor([-0.4526])),\n",
       " (tensor([-0.1158,  0.0947,  0.0526, -0.5789, -0.1368, -0.4526,  0.2632, -0.4316,\n",
       "           0.0105,  0.0316, -0.5368, -0.4526]), tensor([-0.0947])),\n",
       " (tensor([ 0.0947,  0.0526, -0.5789, -0.1368, -0.4526,  0.2632, -0.4316,  0.0105,\n",
       "           0.0316, -0.5368, -0.4526, -0.0947]), tensor([0.0105])),\n",
       " (tensor([ 0.0526, -0.5789, -0.1368, -0.4526,  0.2632, -0.4316,  0.0105,  0.0316,\n",
       "          -0.5368, -0.4526, -0.0947,  0.0105]), tensor([-0.7053])),\n",
       " (tensor([-0.5789, -0.1368, -0.4526,  0.2632, -0.4316,  0.0105,  0.0316, -0.5368,\n",
       "          -0.4526, -0.0947,  0.0105, -0.7053]), tensor([-0.0316])),\n",
       " (tensor([-0.1368, -0.4526,  0.2632, -0.4316,  0.0105,  0.0316, -0.5368, -0.4526,\n",
       "          -0.0947,  0.0105, -0.7053, -0.0316]), tensor([-0.0947])),\n",
       " (tensor([-0.4526,  0.2632, -0.4316,  0.0105,  0.0316, -0.5368, -0.4526, -0.0947,\n",
       "           0.0105, -0.7053, -0.0316, -0.0947]), tensor([-0.4316])),\n",
       " (tensor([ 0.2632, -0.4316,  0.0105,  0.0316, -0.5368, -0.4526, -0.0947,  0.0105,\n",
       "          -0.7053, -0.0316, -0.0947, -0.4316]), tensor([-0.5368])),\n",
       " (tensor([-0.4316,  0.0105,  0.0316, -0.5368, -0.4526, -0.0947,  0.0105, -0.7053,\n",
       "          -0.0316, -0.0947, -0.4316, -0.5368]), tensor([-0.6421])),\n",
       " (tensor([ 0.0105,  0.0316, -0.5368, -0.4526, -0.0947,  0.0105, -0.7053, -0.0316,\n",
       "          -0.0947, -0.4316, -0.5368, -0.6421]), tensor([-0.7263])),\n",
       " (tensor([ 0.0316, -0.5368, -0.4526, -0.0947,  0.0105, -0.7053, -0.0316, -0.0947,\n",
       "          -0.4316, -0.5368, -0.6421, -0.7263]), tensor([-0.7053])),\n",
       " (tensor([-0.5368, -0.4526, -0.0947,  0.0105, -0.7053, -0.0316, -0.0947, -0.4316,\n",
       "          -0.5368, -0.6421, -0.7263, -0.7053]), tensor([-0.1368])),\n",
       " (tensor([-0.4526, -0.0947,  0.0105, -0.7053, -0.0316, -0.0947, -0.4316, -0.5368,\n",
       "          -0.6421, -0.7263, -0.7053, -0.1368]), tensor([-0.0947])),\n",
       " (tensor([-0.0947,  0.0105, -0.7053, -0.0316, -0.0947, -0.4316, -0.5368, -0.6421,\n",
       "          -0.7263, -0.7053, -0.1368, -0.0947]), tensor([-0.5158])),\n",
       " (tensor([ 0.0105, -0.7053, -0.0316, -0.0947, -0.4316, -0.5368, -0.6421, -0.7263,\n",
       "          -0.7053, -0.1368, -0.0947, -0.5158]), tensor([-0.8316])),\n",
       " (tensor([-0.7053, -0.0316, -0.0947, -0.4316, -0.5368, -0.6421, -0.7263, -0.7053,\n",
       "          -0.1368, -0.0947, -0.5158, -0.8316]), tensor([0.0526])),\n",
       " (tensor([-0.0316, -0.0947, -0.4316, -0.5368, -0.6421, -0.7263, -0.7053, -0.1368,\n",
       "          -0.0947, -0.5158, -0.8316,  0.0526]), tensor([0.0105])),\n",
       " (tensor([-0.0947, -0.4316, -0.5368, -0.6421, -0.7263, -0.7053, -0.1368, -0.0947,\n",
       "          -0.5158, -0.8316,  0.0526,  0.0105]), tensor([-0.6211])),\n",
       " (tensor([-0.4316, -0.5368, -0.6421, -0.7263, -0.7053, -0.1368, -0.0947, -0.5158,\n",
       "          -0.8316,  0.0526,  0.0105, -0.6211]), tensor([-0.0947])),\n",
       " (tensor([-0.5368, -0.6421, -0.7263, -0.7053, -0.1368, -0.0947, -0.5158, -0.8316,\n",
       "           0.0526,  0.0105, -0.6211, -0.0947]), tensor([-0.1368])),\n",
       " (tensor([-0.6421, -0.7263, -0.7053, -0.1368, -0.0947, -0.5158, -0.8316,  0.0526,\n",
       "           0.0105, -0.6211, -0.0947, -0.1368]), tensor([-0.2211])),\n",
       " (tensor([-0.7263, -0.7053, -0.1368, -0.0947, -0.5158, -0.8316,  0.0526,  0.0105,\n",
       "          -0.6211, -0.0947, -0.1368, -0.2211]), tensor([-0.3474])),\n",
       " (tensor([-0.7053, -0.1368, -0.0947, -0.5158, -0.8316,  0.0526,  0.0105, -0.6211,\n",
       "          -0.0947, -0.1368, -0.2211, -0.3474]), tensor([-0.5368])),\n",
       " (tensor([-0.1368, -0.0947, -0.5158, -0.8316,  0.0526,  0.0105, -0.6211, -0.0947,\n",
       "          -0.1368, -0.2211, -0.3474, -0.5368]), tensor([-0.4105])),\n",
       " (tensor([-0.0947, -0.5158, -0.8316,  0.0526,  0.0105, -0.6211, -0.0947, -0.1368,\n",
       "          -0.2211, -0.3474, -0.5368, -0.4105]), tensor([-0.0947])),\n",
       " (tensor([-0.5158, -0.8316,  0.0526,  0.0105, -0.6211, -0.0947, -0.1368, -0.2211,\n",
       "          -0.3474, -0.5368, -0.4105, -0.0947]), tensor([-0.1368])),\n",
       " (tensor([-0.8316,  0.0526,  0.0105, -0.6211, -0.0947, -0.1368, -0.2211, -0.3474,\n",
       "          -0.5368, -0.4105, -0.0947, -0.1368]), tensor([-0.1158])),\n",
       " (tensor([ 0.0526,  0.0105, -0.6211, -0.0947, -0.1368, -0.2211, -0.3474, -0.5368,\n",
       "          -0.4105, -0.0947, -0.1368, -0.1158]), tensor([-0.3053])),\n",
       " (tensor([ 0.0105, -0.6211, -0.0947, -0.1368, -0.2211, -0.3474, -0.5368, -0.4105,\n",
       "          -0.0947, -0.1368, -0.1158, -0.3053]), tensor([-0.0105])),\n",
       " (tensor([-0.6211, -0.0947, -0.1368, -0.2211, -0.3474, -0.5368, -0.4105, -0.0947,\n",
       "          -0.1368, -0.1158, -0.3053, -0.0105]), tensor([0.3474])),\n",
       " (tensor([-0.0947, -0.1368, -0.2211, -0.3474, -0.5368, -0.4105, -0.0947, -0.1368,\n",
       "          -0.1158, -0.3053, -0.0105,  0.3474]), tensor([-1.])),\n",
       " (tensor([-0.1368, -0.2211, -0.3474, -0.5368, -0.4105, -0.0947, -0.1368, -0.1158,\n",
       "          -0.3053, -0.0105,  0.3474, -1.0000]), tensor([0.2842])),\n",
       " (tensor([-0.2211, -0.3474, -0.5368, -0.4105, -0.0947, -0.1368, -0.1158, -0.3053,\n",
       "          -0.0105,  0.3474, -1.0000,  0.2842]), tensor([-0.2211])),\n",
       " (tensor([-0.3474, -0.5368, -0.4105, -0.0947, -0.1368, -0.1158, -0.3053, -0.0105,\n",
       "           0.3474, -1.0000,  0.2842, -0.2211]), tensor([-0.3053])),\n",
       " (tensor([-0.5368, -0.4105, -0.0947, -0.1368, -0.1158, -0.3053, -0.0105,  0.3474,\n",
       "          -1.0000,  0.2842, -0.2211, -0.3053]), tensor([-0.6211])),\n",
       " (tensor([-0.4105, -0.0947, -0.1368, -0.1158, -0.3053, -0.0105,  0.3474, -1.0000,\n",
       "           0.2842, -0.2211, -0.3053, -0.6211]), tensor([-0.1158])),\n",
       " (tensor([-0.0947, -0.1368, -0.1158, -0.3053, -0.0105,  0.3474, -1.0000,  0.2842,\n",
       "          -0.2211, -0.3053, -0.6211, -0.1158]), tensor([0.0737])),\n",
       " (tensor([-0.1368, -0.1158, -0.3053, -0.0105,  0.3474, -1.0000,  0.2842, -0.2211,\n",
       "          -0.3053, -0.6211, -0.1158,  0.0737]), tensor([0.0316])),\n",
       " (tensor([-0.1158, -0.3053, -0.0105,  0.3474, -1.0000,  0.2842, -0.2211, -0.3053,\n",
       "          -0.6211, -0.1158,  0.0737,  0.0316]), tensor([0.3474])),\n",
       " (tensor([-0.3053, -0.0105,  0.3474, -1.0000,  0.2842, -0.2211, -0.3053, -0.6211,\n",
       "          -0.1158,  0.0737,  0.0316,  0.3474]), tensor([0.3053])),\n",
       " (tensor([-0.0105,  0.3474, -1.0000,  0.2842, -0.2211, -0.3053, -0.6211, -0.1158,\n",
       "           0.0737,  0.0316,  0.3474,  0.3053]), tensor([0.1158])),\n",
       " (tensor([ 0.3474, -1.0000,  0.2842, -0.2211, -0.3053, -0.6211, -0.1158,  0.0737,\n",
       "           0.0316,  0.3474,  0.3053,  0.1158]), tensor([0.2000])),\n",
       " (tensor([-1.0000,  0.2842, -0.2211, -0.3053, -0.6211, -0.1158,  0.0737,  0.0316,\n",
       "           0.3474,  0.3053,  0.1158,  0.2000]), tensor([0.3684])),\n",
       " (tensor([ 0.2842, -0.2211, -0.3053, -0.6211, -0.1158,  0.0737,  0.0316,  0.3474,\n",
       "           0.3053,  0.1158,  0.2000,  0.3684]), tensor([0.2000])),\n",
       " (tensor([-0.2211, -0.3053, -0.6211, -0.1158,  0.0737,  0.0316,  0.3474,  0.3053,\n",
       "           0.1158,  0.2000,  0.3684,  0.2000]), tensor([-0.4526])),\n",
       " (tensor([-0.3053, -0.6211, -0.1158,  0.0737,  0.0316,  0.3474,  0.3053,  0.1158,\n",
       "           0.2000,  0.3684,  0.2000, -0.4526]), tensor([-0.0316])),\n",
       " (tensor([-0.6211, -0.1158,  0.0737,  0.0316,  0.3474,  0.3053,  0.1158,  0.2000,\n",
       "           0.3684,  0.2000, -0.4526, -0.0316]), tensor([0.2842])),\n",
       " (tensor([-0.1158,  0.0737,  0.0316,  0.3474,  0.3053,  0.1158,  0.2000,  0.3684,\n",
       "           0.2000, -0.4526, -0.0316,  0.2842]), tensor([0.6000])),\n",
       " (tensor([ 0.0737,  0.0316,  0.3474,  0.3053,  0.1158,  0.2000,  0.3684,  0.2000,\n",
       "          -0.4526, -0.0316,  0.2842,  0.6000]), tensor([0.3263])),\n",
       " (tensor([ 0.0316,  0.3474,  0.3053,  0.1158,  0.2000,  0.3684,  0.2000, -0.4526,\n",
       "          -0.0316,  0.2842,  0.6000,  0.3263]), tensor([-0.2632])),\n",
       " (tensor([ 0.3474,  0.3053,  0.1158,  0.2000,  0.3684,  0.2000, -0.4526, -0.0316,\n",
       "           0.2842,  0.6000,  0.3263, -0.2632]), tensor([0.2211])),\n",
       " (tensor([ 0.3053,  0.1158,  0.2000,  0.3684,  0.2000, -0.4526, -0.0316,  0.2842,\n",
       "           0.6000,  0.3263, -0.2632,  0.2211]), tensor([-0.3053])),\n",
       " (tensor([ 0.1158,  0.2000,  0.3684,  0.2000, -0.4526, -0.0316,  0.2842,  0.6000,\n",
       "           0.3263, -0.2632,  0.2211, -0.3053]), tensor([0.2421])),\n",
       " (tensor([ 0.2000,  0.3684,  0.2000, -0.4526, -0.0316,  0.2842,  0.6000,  0.3263,\n",
       "          -0.2632,  0.2211, -0.3053,  0.2421]), tensor([0.0947])),\n",
       " (tensor([ 0.3684,  0.2000, -0.4526, -0.0316,  0.2842,  0.6000,  0.3263, -0.2632,\n",
       "           0.2211, -0.3053,  0.2421,  0.0947]), tensor([0.1368])),\n",
       " (tensor([ 0.2000, -0.4526, -0.0316,  0.2842,  0.6000,  0.3263, -0.2632,  0.2211,\n",
       "          -0.3053,  0.2421,  0.0947,  0.1368]), tensor([0.6211])),\n",
       " (tensor([-0.4526, -0.0316,  0.2842,  0.6000,  0.3263, -0.2632,  0.2211, -0.3053,\n",
       "           0.2421,  0.0947,  0.1368,  0.6211]), tensor([0.3895])),\n",
       " (tensor([-0.0316,  0.2842,  0.6000,  0.3263, -0.2632,  0.2211, -0.3053,  0.2421,\n",
       "           0.0947,  0.1368,  0.6211,  0.3895]), tensor([-0.4105])),\n",
       " (tensor([ 0.2842,  0.6000,  0.3263, -0.2632,  0.2211, -0.3053,  0.2421,  0.0947,\n",
       "           0.1368,  0.6211,  0.3895, -0.4105]), tensor([0.1579])),\n",
       " (tensor([ 0.6000,  0.3263, -0.2632,  0.2211, -0.3053,  0.2421,  0.0947,  0.1368,\n",
       "           0.6211,  0.3895, -0.4105,  0.1579]), tensor([-0.2842])),\n",
       " (tensor([ 0.3263, -0.2632,  0.2211, -0.3053,  0.2421,  0.0947,  0.1368,  0.6211,\n",
       "           0.3895, -0.4105,  0.1579, -0.2842]), tensor([0.2842])),\n",
       " (tensor([-0.2632,  0.2211, -0.3053,  0.2421,  0.0947,  0.1368,  0.6211,  0.3895,\n",
       "          -0.4105,  0.1579, -0.2842,  0.2842]), tensor([0.6421])),\n",
       " (tensor([ 0.2211, -0.3053,  0.2421,  0.0947,  0.1368,  0.6211,  0.3895, -0.4105,\n",
       "           0.1579, -0.2842,  0.2842,  0.6421]), tensor([0.6211])),\n",
       " (tensor([-0.3053,  0.2421,  0.0947,  0.1368,  0.6211,  0.3895, -0.4105,  0.1579,\n",
       "          -0.2842,  0.2842,  0.6421,  0.6211]), tensor([0.4947])),\n",
       " (tensor([ 0.2421,  0.0947,  0.1368,  0.6211,  0.3895, -0.4105,  0.1579, -0.2842,\n",
       "           0.2842,  0.6421,  0.6211,  0.4947]), tensor([0.4105])),\n",
       " (tensor([ 0.0947,  0.1368,  0.6211,  0.3895, -0.4105,  0.1579, -0.2842,  0.2842,\n",
       "           0.6421,  0.6211,  0.4947,  0.4105]), tensor([0.3263])),\n",
       " (tensor([ 0.1368,  0.6211,  0.3895, -0.4105,  0.1579, -0.2842,  0.2842,  0.6421,\n",
       "           0.6211,  0.4947,  0.4105,  0.3263]), tensor([0.3474])),\n",
       " (tensor([ 0.6211,  0.3895, -0.4105,  0.1579, -0.2842,  0.2842,  0.6421,  0.6211,\n",
       "           0.4947,  0.4105,  0.3263,  0.3474]), tensor([0.4316])),\n",
       " (tensor([ 0.3895, -0.4105,  0.1579, -0.2842,  0.2842,  0.6421,  0.6211,  0.4947,\n",
       "           0.4105,  0.3263,  0.3474,  0.4316]), tensor([0.4105])),\n",
       " (tensor([-0.4105,  0.1579, -0.2842,  0.2842,  0.6421,  0.6211,  0.4947,  0.4105,\n",
       "           0.3263,  0.3474,  0.4316,  0.4105]), tensor([0.3053])),\n",
       " (tensor([ 0.1579, -0.2842,  0.2842,  0.6421,  0.6211,  0.4947,  0.4105,  0.3263,\n",
       "           0.3474,  0.4316,  0.4105,  0.3053]), tensor([0.4737])),\n",
       " (tensor([-0.2842,  0.2842,  0.6421,  0.6211,  0.4947,  0.4105,  0.3263,  0.3474,\n",
       "           0.4316,  0.4105,  0.3053,  0.4737]), tensor([0.4737])),\n",
       " (tensor([0.2842, 0.6421, 0.6211, 0.4947, 0.4105, 0.3263, 0.3474, 0.4316, 0.4105,\n",
       "          0.3053, 0.4737, 0.4737]), tensor([0.5579])),\n",
       " (tensor([0.6421, 0.6211, 0.4947, 0.4105, 0.3263, 0.3474, 0.4316, 0.4105, 0.3053,\n",
       "          0.4737, 0.4737, 0.5579]), tensor([-0.0316])),\n",
       " (tensor([ 0.6211,  0.4947,  0.4105,  0.3263,  0.3474,  0.4316,  0.4105,  0.3053,\n",
       "           0.4737,  0.4737,  0.5579, -0.0316]), tensor([0.3474])),\n",
       " (tensor([ 0.4947,  0.4105,  0.3263,  0.3474,  0.4316,  0.4105,  0.3053,  0.4737,\n",
       "           0.4737,  0.5579, -0.0316,  0.3474]), tensor([0.2000])),\n",
       " (tensor([ 0.4105,  0.3263,  0.3474,  0.4316,  0.4105,  0.3053,  0.4737,  0.4737,\n",
       "           0.5579, -0.0316,  0.3474,  0.2000]), tensor([0.7263])),\n",
       " (tensor([ 0.3263,  0.3474,  0.4316,  0.4105,  0.3053,  0.4737,  0.4737,  0.5579,\n",
       "          -0.0316,  0.3474,  0.2000,  0.7263]), tensor([0.1579])),\n",
       " (tensor([ 0.3474,  0.4316,  0.4105,  0.3053,  0.4737,  0.4737,  0.5579, -0.0316,\n",
       "           0.3474,  0.2000,  0.7263,  0.1579]), tensor([-0.3053])),\n",
       " (tensor([ 0.4316,  0.4105,  0.3053,  0.4737,  0.4737,  0.5579, -0.0316,  0.3474,\n",
       "           0.2000,  0.7263,  0.1579, -0.3053]), tensor([0.4526])),\n",
       " (tensor([ 0.4105,  0.3053,  0.4737,  0.4737,  0.5579, -0.0316,  0.3474,  0.2000,\n",
       "           0.7263,  0.1579, -0.3053,  0.4526]), tensor([0.5789])),\n",
       " (tensor([ 0.3053,  0.4737,  0.4737,  0.5579, -0.0316,  0.3474,  0.2000,  0.7263,\n",
       "           0.1579, -0.3053,  0.4526,  0.5789]), tensor([-0.3474])),\n",
       " (tensor([ 0.4737,  0.4737,  0.5579, -0.0316,  0.3474,  0.2000,  0.7263,  0.1579,\n",
       "          -0.3053,  0.4526,  0.5789, -0.3474]), tensor([0.6211])),\n",
       " (tensor([ 0.4737,  0.5579, -0.0316,  0.3474,  0.2000,  0.7263,  0.1579, -0.3053,\n",
       "           0.4526,  0.5789, -0.3474,  0.6211]), tensor([0.4526])),\n",
       " (tensor([ 0.5579, -0.0316,  0.3474,  0.2000,  0.7263,  0.1579, -0.3053,  0.4526,\n",
       "           0.5789, -0.3474,  0.6211,  0.4526]), tensor([0.6211])),\n",
       " (tensor([-0.0316,  0.3474,  0.2000,  0.7263,  0.1579, -0.3053,  0.4526,  0.5789,\n",
       "          -0.3474,  0.6211,  0.4526,  0.6211]), tensor([0.0316])),\n",
       " (tensor([ 0.3474,  0.2000,  0.7263,  0.1579, -0.3053,  0.4526,  0.5789, -0.3474,\n",
       "           0.6211,  0.4526,  0.6211,  0.0316]), tensor([-0.4105])),\n",
       " (tensor([ 0.2000,  0.7263,  0.1579, -0.3053,  0.4526,  0.5789, -0.3474,  0.6211,\n",
       "           0.4526,  0.6211,  0.0316, -0.4105]), tensor([0.3053])),\n",
       " (tensor([ 0.7263,  0.1579, -0.3053,  0.4526,  0.5789, -0.3474,  0.6211,  0.4526,\n",
       "           0.6211,  0.0316, -0.4105,  0.3053]), tensor([0.9368])),\n",
       " (tensor([ 0.1579, -0.3053,  0.4526,  0.5789, -0.3474,  0.6211,  0.4526,  0.6211,\n",
       "           0.0316, -0.4105,  0.3053,  0.9368]), tensor([0.1158])),\n",
       " (tensor([-0.3053,  0.4526,  0.5789, -0.3474,  0.6211,  0.4526,  0.6211,  0.0316,\n",
       "          -0.4105,  0.3053,  0.9368,  0.1158]), tensor([1.])),\n",
       " (tensor([ 0.4526,  0.5789, -0.3474,  0.6211,  0.4526,  0.6211,  0.0316, -0.4105,\n",
       "           0.3053,  0.9368,  0.1158,  1.0000]), tensor([0.7895])),\n",
       " (tensor([ 0.5789, -0.3474,  0.6211,  0.4526,  0.6211,  0.0316, -0.4105,  0.3053,\n",
       "           0.9368,  0.1158,  1.0000,  0.7895]), tensor([0.6842])),\n",
       " (tensor([-0.3474,  0.6211,  0.4526,  0.6211,  0.0316, -0.4105,  0.3053,  0.9368,\n",
       "           0.1158,  1.0000,  0.7895,  0.6842]), tensor([0.5368])),\n",
       " (tensor([ 0.6211,  0.4526,  0.6211,  0.0316, -0.4105,  0.3053,  0.9368,  0.1158,\n",
       "           1.0000,  0.7895,  0.6842,  0.5368]), tensor([0.4316])),\n",
       " (tensor([ 0.4526,  0.6211,  0.0316, -0.4105,  0.3053,  0.9368,  0.1158,  1.0000,\n",
       "           0.7895,  0.6842,  0.5368,  0.4316]), tensor([0.4947])),\n",
       " (tensor([ 0.6211,  0.0316, -0.4105,  0.3053,  0.9368,  0.1158,  1.0000,  0.7895,\n",
       "           0.6842,  0.5368,  0.4316,  0.4947]), tensor([0.4105])),\n",
       " (tensor([ 0.0316, -0.4105,  0.3053,  0.9368,  0.1158,  1.0000,  0.7895,  0.6842,\n",
       "           0.5368,  0.4316,  0.4947,  0.4105]), tensor([0.1368])),\n",
       " (tensor([-0.4105,  0.3053,  0.9368,  0.1158,  1.0000,  0.7895,  0.6842,  0.5368,\n",
       "           0.4316,  0.4947,  0.4105,  0.1368]), tensor([0.3474])),\n",
       " (tensor([0.3053, 0.9368, 0.1158, 1.0000, 0.7895, 0.6842, 0.5368, 0.4316, 0.4947,\n",
       "          0.4105, 0.1368, 0.3474]), tensor([0.6000])),\n",
       " (tensor([0.9368, 0.1158, 1.0000, 0.7895, 0.6842, 0.5368, 0.4316, 0.4947, 0.4105,\n",
       "          0.1368, 0.3474, 0.6000]), tensor([0.4316])),\n",
       " (tensor([0.1158, 1.0000, 0.7895, 0.6842, 0.5368, 0.4316, 0.4947, 0.4105, 0.1368,\n",
       "          0.3474, 0.6000, 0.4316]), tensor([0.4105])),\n",
       " (tensor([1.0000, 0.7895, 0.6842, 0.5368, 0.4316, 0.4947, 0.4105, 0.1368, 0.3474,\n",
       "          0.6000, 0.4316, 0.4105]), tensor([0.6000])),\n",
       " (tensor([0.7895, 0.6842, 0.5368, 0.4316, 0.4947, 0.4105, 0.1368, 0.3474, 0.6000,\n",
       "          0.4316, 0.4105, 0.6000]), tensor([0.6000])),\n",
       " (tensor([0.6842, 0.5368, 0.4316, 0.4947, 0.4105, 0.1368, 0.3474, 0.6000, 0.4316,\n",
       "          0.4105, 0.6000, 0.6000]), tensor([0.9158])),\n",
       " (tensor([0.5368, 0.4316, 0.4947, 0.4105, 0.1368, 0.3474, 0.6000, 0.4316, 0.4105,\n",
       "          0.6000, 0.6000, 0.9158]), tensor([0.9579])),\n",
       " (tensor([0.4316, 0.4947, 0.4105, 0.1368, 0.3474, 0.6000, 0.4316, 0.4105, 0.6000,\n",
       "          0.6000, 0.9158, 0.9579]), tensor([0.1789])),\n",
       " (tensor([0.4947, 0.4105, 0.1368, 0.3474, 0.6000, 0.4316, 0.4105, 0.6000, 0.6000,\n",
       "          0.9158, 0.9579, 0.1789]), tensor([0.6632])),\n",
       " (tensor([0.4105, 0.1368, 0.3474, 0.6000, 0.4316, 0.4105, 0.6000, 0.6000, 0.9158,\n",
       "          0.9579, 0.1789, 0.6632]), tensor([0.7684])),\n",
       " (tensor([0.1368, 0.3474, 0.6000, 0.4316, 0.4105, 0.6000, 0.6000, 0.9158, 0.9579,\n",
       "          0.1789, 0.6632, 0.7684]), tensor([0.9579])),\n",
       " (tensor([0.3474, 0.6000, 0.4316, 0.4105, 0.6000, 0.6000, 0.9158, 0.9579, 0.1789,\n",
       "          0.6632, 0.7684, 0.9579]), tensor([0.6842])),\n",
       " (tensor([0.6000, 0.4316, 0.4105, 0.6000, 0.6000, 0.9158, 0.9579, 0.1789, 0.6632,\n",
       "          0.7684, 0.9579, 0.6842]), tensor([0.4947])),\n",
       " (tensor([0.4316, 0.4105, 0.6000, 0.6000, 0.9158, 0.9579, 0.1789, 0.6632, 0.7684,\n",
       "          0.9579, 0.6842, 0.4947]), tensor([0.7263])),\n",
       " (tensor([0.4105, 0.6000, 0.6000, 0.9158, 0.9579, 0.1789, 0.6632, 0.7684, 0.9579,\n",
       "          0.6842, 0.4947, 0.7263]), tensor([0.6211])),\n",
       " (tensor([0.6000, 0.6000, 0.9158, 0.9579, 0.1789, 0.6632, 0.7684, 0.9579, 0.6842,\n",
       "          0.4947, 0.7263, 0.6211]), tensor([-0.1368])),\n",
       " (tensor([ 0.6000,  0.9158,  0.9579,  0.1789,  0.6632,  0.7684,  0.9579,  0.6842,\n",
       "           0.4947,  0.7263,  0.6211, -0.1368]), tensor([0.6842])),\n",
       " (tensor([ 0.9158,  0.9579,  0.1789,  0.6632,  0.7684,  0.9579,  0.6842,  0.4947,\n",
       "           0.7263,  0.6211, -0.1368,  0.6842]), tensor([0.3684])),\n",
       " (tensor([ 0.9579,  0.1789,  0.6632,  0.7684,  0.9579,  0.6842,  0.4947,  0.7263,\n",
       "           0.6211, -0.1368,  0.6842,  0.3684]), tensor([0.1368])),\n",
       " (tensor([ 0.1789,  0.6632,  0.7684,  0.9579,  0.6842,  0.4947,  0.7263,  0.6211,\n",
       "          -0.1368,  0.6842,  0.3684,  0.1368]), tensor([-0.0737])),\n",
       " (tensor([ 0.6632,  0.7684,  0.9579,  0.6842,  0.4947,  0.7263,  0.6211, -0.1368,\n",
       "           0.6842,  0.3684,  0.1368, -0.0737]), tensor([0.2211])),\n",
       " (tensor([ 0.7684,  0.9579,  0.6842,  0.4947,  0.7263,  0.6211, -0.1368,  0.6842,\n",
       "           0.3684,  0.1368, -0.0737,  0.2211]), tensor([0.2632]))]"
      ]
     },
     "execution_count": 29,
     "metadata": {},
     "output_type": "execute_result"
    }
   ],
   "source": [
    "train_inout_seq"
   ]
  },
  {
   "cell_type": "markdown",
   "metadata": {},
   "source": [
    "### Model"
   ]
  },
  {
   "cell_type": "code",
   "execution_count": 31,
   "metadata": {},
   "outputs": [],
   "source": [
    "import torch.nn as nn\n",
    "class LSTM(nn.Module):\n",
    "    def __init__(self, input_size=1, hidden_layer_size=100, output_size=1):\n",
    "        super().__init__()\n",
    "        self.hidden_layer_size = hidden_layer_size\n",
    "\n",
    "        self.lstm = nn.LSTM(input_size, hidden_layer_size)\n",
    "\n",
    "        self.linear = nn.Linear(hidden_layer_size, output_size)\n",
    "\n",
    "        self.hidden_cell = (torch.zeros(1,1,self.hidden_layer_size),\n",
    "                            torch.zeros(1,1,self.hidden_layer_size))\n",
    "\n",
    "    def forward(self, input_seq):\n",
    "        lstm_out, self.hidden_cell = self.lstm(input_seq.view(len(input_seq) ,1, -1), self.hidden_cell)\n",
    "        predictions = self.linear(lstm_out.view(len(input_seq), -1))\n",
    "        return predictions[-1]"
   ]
  },
  {
   "cell_type": "code",
   "execution_count": 32,
   "metadata": {},
   "outputs": [],
   "source": [
    "model = LSTM()\n",
    "loss_function = nn.MSELoss()\n",
    "optimizer = torch.optim.Adam(model.parameters(), lr=0.001)"
   ]
  },
  {
   "cell_type": "code",
   "execution_count": 33,
   "metadata": {},
   "outputs": [
    {
     "name": "stdout",
     "output_type": "stream",
     "text": [
      "LSTM(\n",
      "  (lstm): LSTM(1, 100)\n",
      "  (linear): Linear(in_features=100, out_features=1, bias=True)\n",
      ")\n"
     ]
    }
   ],
   "source": [
    "print(model)"
   ]
  },
  {
   "cell_type": "markdown",
   "metadata": {},
   "source": [
    "### Training the model"
   ]
  },
  {
   "cell_type": "code",
   "execution_count": 34,
   "metadata": {},
   "outputs": [
    {
     "name": "stdout",
     "output_type": "stream",
     "text": [
      "epoch:   1 loss: 0.00353256\n",
      "epoch:  26 loss: 0.02193405\n",
      "epoch:  51 loss: 0.09190983\n",
      "epoch:  76 loss: 0.00036794\n",
      "epoch: 101 loss: 0.00271940\n",
      "epoch: 126 loss: 0.00064338\n",
      "epoch: 149 loss: 0.0002533889\n"
     ]
    }
   ],
   "source": [
    "epochs = 150\n",
    "\n",
    "for i in range(epochs):\n",
    "    for seq, labels in train_inout_seq:\n",
    "        optimizer.zero_grad()\n",
    "        model.hidden_cell = (torch.zeros(1, 1, model.hidden_layer_size),\n",
    "                        torch.zeros(1, 1, model.hidden_layer_size))\n",
    "\n",
    "        y_pred = model(seq)\n",
    "\n",
    "        single_loss = loss_function(y_pred, labels)\n",
    "        single_loss.backward()\n",
    "        optimizer.step()\n",
    "\n",
    "    if i%25 == 1:\n",
    "        print(f'epoch: {i:3} loss: {single_loss.item():10.8f}')\n",
    "\n",
    "print(f'epoch: {i:3} loss: {single_loss.item():10.10f}')"
   ]
  },
  {
   "cell_type": "markdown",
   "metadata": {},
   "source": [
    "### Making predictions"
   ]
  },
  {
   "cell_type": "code",
   "execution_count": 35,
   "metadata": {},
   "outputs": [
    {
     "name": "stdout",
     "output_type": "stream",
     "text": [
      "[0.9578947424888611, 0.6842105388641357, 0.49473685026168823, 0.7263157963752747, 0.621052622795105, -0.13684210181236267, 0.6842105388641357, 0.3684210479259491, 0.13684210181236267, -0.0736842080950737, 0.2210526317358017, 0.2631579041481018]\n"
     ]
    }
   ],
   "source": [
    "fut_pred = 13\n",
    "\n",
    "test_inputs = train_data_normalized[-train_window:].tolist()\n",
    "print(test_inputs)"
   ]
  },
  {
   "cell_type": "code",
   "execution_count": 36,
   "metadata": {},
   "outputs": [],
   "source": [
    "model.eval()\n",
    "\n",
    "for i in range(fut_pred):\n",
    "    seq = torch.FloatTensor(test_inputs[-train_window:])\n",
    "    with torch.no_grad():\n",
    "        model.hidden = (torch.zeros(1, 1, model.hidden_layer_size),\n",
    "                        torch.zeros(1, 1, model.hidden_layer_size))\n",
    "        test_inputs.append(model(seq).item())"
   ]
  },
  {
   "cell_type": "code",
   "execution_count": 39,
   "metadata": {},
   "outputs": [
    {
     "name": "stdout",
     "output_type": "stream",
     "text": [
      "[[1.409452  ]\n",
      " [1.49411092]\n",
      " [1.54291347]\n",
      " [1.45425892]\n",
      " [1.61908797]\n",
      " [1.55172856]\n",
      " [1.60081986]\n",
      " [1.34846258]\n",
      " [1.32348483]\n",
      " [1.46092864]\n",
      " [1.66133975]\n",
      " [1.52657887]\n",
      " [1.73337051]]\n"
     ]
    }
   ],
   "source": [
    "actual_predictions = scaler.inverse_transform(np.array(test_inputs[train_window:] ).reshape(-1, 1))\n",
    "print(actual_predictions)\n",
    "\n",
    "x = np.arange(156, 169, 1)"
   ]
  },
  {
   "cell_type": "code",
   "execution_count": 43,
   "metadata": {
    "scrolled": true
   },
   "outputs": [
    {
     "data": {
      "image/png": "[encoded data removed]",
      "text/plain": [
       "<Figure size 720x504 with 1 Axes>"
      ]
     },
     "metadata": {
      "needs_background": "light"
     },
     "output_type": "display_data"
    }
   ],
   "source": [
    "plt.ylabel('Average Price')\n",
    "#plt.autoscale(axis='x', tight=True)\n",
    "plt.plot(ts.AveragePrice)\n",
    "plt.plot(x,actual_predictions)\n",
    "plt.show()"
   ]
  },
  {
   "cell_type": "code",
   "execution_count": null,
   "metadata": {},
   "outputs": [],
   "source": []
  },
  {
   "cell_type": "code",
   "execution_count": null,
   "metadata": {},
   "outputs": [],
   "source": []
  },
  {
   "cell_type": "code",
   "execution_count": null,
   "metadata": {},
   "outputs": [],
   "source": []
  }
 ],
 "metadata": {
  "kernelspec": {
   "display_name": "Python 3",
   "language": "python",
   "name": "python3"
  },
  "language_info": {
   "codemirror_mode": {
    "name": "ipython",
    "version": 3
   },
   "file_extension": ".py",
   "mimetype": "text/x-python",
   "name": "python",
   "nbconvert_exporter": "python",
   "pygments_lexer": "ipython3",
   "version": "3.7.4"
  }
 },
 "nbformat": 4,
 "nbformat_minor": 2
}
